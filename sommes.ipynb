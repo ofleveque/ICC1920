{
 "cells": [
  {
   "cell_type": "code",
   "execution_count": 74,
   "metadata": {},
   "outputs": [],
   "source": [
    "# Calcul de la somme des paires d'éléments de 1 à n (3 façons de faire)\n",
    "def somme(k,n):\n",
    "    if k==1:\n",
    "        s=0\n",
    "        for i in range(1,n):\n",
    "            for j in range(i+1,n+1):\n",
    "                s=s+1\n",
    "        return s\n",
    "    elif k==2:\n",
    "        s=0\n",
    "        for i in range(1,n):\n",
    "            s=s+n-i\n",
    "        return s\n",
    "    else:\n",
    "        return int(n*(n-1)/2)"
   ]
  },
  {
   "cell_type": "code",
   "execution_count": 84,
   "metadata": {},
   "outputs": [
    {
     "name": "stdout",
     "output_type": "stream",
     "text": [
      "Valeur de n: 10000\n",
      "Méthode: 1 , Somme: 49995000 , Temps d'exécution : 2.330719470977783  secondes\n",
      "Méthode: 2 , Somme: 49995000 , Temps d'exécution : 0.0006842613220214844  secondes\n",
      "Méthode: 3 , Somme: 49995000 , Temps d'exécution : 5.4836273193359375e-06  secondes\n"
     ]
    }
   ],
   "source": [
    "from time import *\n",
    "n=int(input(\"Valeur de n: \"))\n",
    "for k in range(1,4):\n",
    "    t0=time()\n",
    "    s=somme(k,n)\n",
    "    t=time()-t0\n",
    "    print(\"Méthode:\",k,\", Somme:\",s,\", Temps d'exécution :\",t,\" secondes\")    "
   ]
  },
  {
   "cell_type": "code",
   "execution_count": null,
   "metadata": {},
   "outputs": [],
   "source": []
  }
 ],
 "metadata": {
  "hide_input": false,
  "kernelspec": {
   "display_name": "Python 3",
   "language": "python",
   "name": "python3"
  },
  "language_info": {
   "codemirror_mode": {
    "name": "ipython",
    "version": 3
   },
   "file_extension": ".py",
   "mimetype": "text/x-python",
   "name": "python",
   "nbconvert_exporter": "python",
   "pygments_lexer": "ipython3",
   "version": "3.7.3"
  },
  "toc": {
   "base_numbering": 1,
   "nav_menu": {},
   "number_sections": true,
   "sideBar": true,
   "skip_h1_title": false,
   "title_cell": "Table of Contents",
   "title_sidebar": "Contents",
   "toc_cell": false,
   "toc_position": {},
   "toc_section_display": true,
   "toc_window_display": false
  },
  "varInspector": {
   "cols": {
    "lenName": 16,
    "lenType": 16,
    "lenVar": 40
   },
   "kernels_config": {
    "python": {
     "delete_cmd_postfix": "",
     "delete_cmd_prefix": "del ",
     "library": "var_list.py",
     "varRefreshCmd": "print(var_dic_list())"
    },
    "r": {
     "delete_cmd_postfix": ") ",
     "delete_cmd_prefix": "rm(",
     "library": "var_list.r",
     "varRefreshCmd": "cat(var_dic_list()) "
    }
   },
   "types_to_exclude": [
    "module",
    "function",
    "builtin_function_or_method",
    "instance",
    "_Feature"
   ],
   "window_display": false
  }
 },
 "nbformat": 4,
 "nbformat_minor": 2
}
